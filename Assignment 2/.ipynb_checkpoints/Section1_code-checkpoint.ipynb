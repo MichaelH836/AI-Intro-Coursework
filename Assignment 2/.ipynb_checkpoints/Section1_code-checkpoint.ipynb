{
 "cells": [
  {
   "cell_type": "code",
   "execution_count": 72,
   "id": "337382b9-a9e8-4d54-b1ab-90e527a55b93",
   "metadata": {},
   "outputs": [],
   "source": [
    "import numpy as np\n",
    "import pandas as pd\n",
    "import matplotlib.pyplot as plt\n",
    "import scipy.stats as sp\n",
    "import seaborn as sns\n",
    "import statsmodels.api as sm\n",
    "from sklearn.neighbors import KNeighborsClassifier\n",
    "from sklearn.linear_model import LogisticRegression\n",
    "from sklearn.metrics import accuracy_score, confusion_matrix, classification_report, precision_score, recall_score, f1_score\n",
    "from sklearn.model_selection import KFold, cross_val_score\n",
    "\n",
    "%matplotlib inline\n",
    "np.random.seed(42)\n",
    "df = pd.read_csv(\"40403863_features.csv\")"
   ]
  },
  {
   "cell_type": "code",
   "execution_count": 73,
   "id": "f017a374-1f62-494a-a521-c185bca14cbb",
   "metadata": {},
   "outputs": [
    {
     "data": {
      "image/png": "[encoded data removed]",
      "text/plain": [
       "<Figure size 640x480 with 1 Axes>"
      ]
     },
     "metadata": {},
     "output_type": "display_data"
    },
    {
     "data": {
      "image/png": "[encoded data removed]",
      "text/plain": [
       "<Figure size 640x480 with 1 Axes>"
      ]
     },
     "metadata": {},
     "output_type": "display_data"
    },
    {
     "name": "stdout",
     "output_type": "stream",
     "text": [
      "[[ 0.10644168 -1.46600524]] [-0.93101925]\n",
      "Training Accuracy: 0.5446428571428571\n",
      "Confusion Matrix:\n",
      " [[ 2 13]\n",
      " [ 3 10]]\n",
      "Accuracy Score: 0.42857142857142855\n",
      "True positive rate (recall): 0.43478260869565216\n",
      "False positive rate: 0.6\n",
      "              precision    recall  f1-score   support\n",
      "\n",
      "           0       0.40      0.13      0.20        15\n",
      "           1       0.43      0.77      0.56        13\n",
      "\n",
      "    accuracy                           0.43        28\n",
      "   macro avg       0.42      0.45      0.38        28\n",
      "weighted avg       0.42      0.43      0.37        28\n",
      "\n"
     ]
    }
   ],
   "source": [
    "# section 1.1\n",
    "\n",
    "df[\"letter\"] = np.where(df[\"label\"].isin([\"a\",\"b\",\"c\",\"d\",\"e\",\"f\",\"g\",\"h\",\"i\",\"j\"]), 1, 0)\n",
    "sampleSet = df.sample(frac=1, random_state = 34).reset_index(drop=True)\n",
    "train_data = sampleSet[:112] # top 80% like in topic 14 slides\n",
    "test_data = sampleSet[112:]\n",
    "\n",
    "sns.histplot(data=train_data, x=\"nr_pix\", alpha=0.5)\n",
    "plt.show()\n",
    "plt.clf()\n",
    "sns.histplot(data=train_data, x=\"aspect_ratio\", alpha=0.5)\n",
    "plt.show()\n",
    "plt.clf()\n",
    "\n",
    "x_train = train_data[[\"nr_pix\", \"aspect_ratio\"]]\n",
    "y_train = train_data[\"letter\"]\n",
    "model = LogisticRegression()\n",
    "model.fit(x_train, y_train)\n",
    "print(model.coef_, model.intercept_)\n",
    "\n",
    "train_preds = (model.predict_proba(x_train)[:, 1] > 0.5).astype(int)\n",
    "train_accuracy = accuracy_score(y_train, train_preds)\n",
    "print(\"Training Accuracy:\", train_accuracy)\n",
    "\n",
    "x_test = test_data[[\"nr_pix\", \"aspect_ratio\"]]\n",
    "y_test = test_data[\"letter\"]\n",
    "test_preds = (model.predict_proba(x_test)[:, 1] > 0.5).astype(int)\n",
    "test_accuracy = accuracy_score(y_test, test_preds)\n",
    "cm = confusion_matrix(y_test, test_preds)\n",
    "print(\"Confusion Matrix:\\n\", cm)\n",
    "print(\"Accuracy Score:\", test_accuracy)\n",
    "print(\"True positive rate (recall):\", (cm[1][1]/(cm[0][1] + cm[1][1])))\n",
    "print(\"False positive rate:\", (1 - (cm[0][0] / (cm[0][0] + cm[1][0]))))\n",
    "print(classification_report(y_test, test_preds, zero_division=0))"
   ]
  },
  {
   "cell_type": "code",
   "execution_count": 76,
   "id": "0927ea03-5462-49e2-939e-e30856b2a2e1",
   "metadata": {},
   "outputs": [
    {
     "name": "stdout",
     "output_type": "stream",
     "text": [
      "Crossvalidated accuracy: 0.6357142857142858\n",
      "True positive rate: 0.561338127928517\n",
      "False positive rate: 0.6053174603174603\n",
      "Precision: 0.561338127928517\n",
      "Recall: 0.7253575114256228\n",
      "F1-Score: 0.6316806722689076\n"
     ]
    }
   ],
   "source": [
    "# section 1.2\n",
    "\n",
    "df[\"letter\"] = np.where(df[\"label\"].isin([\"a\",\"b\",\"c\",\"d\",\"e\",\"f\",\"g\",\"h\",\"i\",\"j\"]), 1, 0)\n",
    "kfolds = 5\n",
    "kf = KFold(n_splits=kfolds, shuffle=True, random_state=42)\n",
    "k_neighbours = 5\n",
    "accuracy_sum, true_pos_sum, false_pos_sum, precision_sum, recall_sum, f1_sum = [0] * 6\n",
    "\n",
    "for train_index, test_index in kf.split(df):\n",
    "    train_data = df.iloc[train_index]\n",
    "    test_data = df.iloc[test_index]\n",
    "    x_train = train_data[[\"nr_pix\", \"aspect_ratio\"]]\n",
    "    y_train = train_data[\"letter\"]\n",
    "    x_test = test_data[[\"nr_pix\", \"aspect_ratio\"]]\n",
    "    y_test = test_data[\"letter\"]\n",
    "\n",
    "    knn = KNeighborsClassifier(n_neighbors=k_neighbours)\n",
    "    knn.fit(x_train, y_train)\n",
    "    cv_test_preds = (model.predict_proba(x_test)[:, 1] > 0.5).astype(int)\n",
    "    accuracy = knn.score(x_test, y_test)\n",
    "    accuracy_sum += accuracy\n",
    "    cm = confusion_matrix(y_test, cv_test_preds)\n",
    "    true_pos_sum += cm[1][1]/(cm[0][1] + cm[1][1])\n",
    "    false_pos_sum += 1 - (cm[0][0] / (cm[0][0] + cm[1][0]))\n",
    "    precision_sum += precision_score(y_test, cv_test_preds)\n",
    "    recall_sum += recall_score(y_test, cv_test_preds)\n",
    "    f1_sum += f1_score(y_test, cv_test_preds)\n",
    "print(\"Crossvalidated accuracy:\", accuracy_sum/kfolds)\n",
    "print(\"True positive rate:\", true_pos_sum/kfolds)\n",
    "print(\"False positive rate:\", false_pos_sum/kfolds)\n",
    "print(\"Precision:\", precision_sum/kfolds)\n",
    "print(\"Recall:\", recall_sum/kfolds)\n",
    "print(\"F1-Score:\", f1_sum/kfolds)"
   ]
  },
  {
   "cell_type": "code",
   "execution_count": null,
   "id": "760c19cd-0d2f-41ba-b8d4-b52b9919f58b",
   "metadata": {},
   "outputs": [],
   "source": []
  }
 ],
 "metadata": {
  "kernelspec": {
   "display_name": "Python 3 (ipykernel)",
   "language": "python",
   "name": "python3"
  },
  "language_info": {
   "codemirror_mode": {
    "name": "ipython",
    "version": 3
   },
   "file_extension": ".py",
   "mimetype": "text/x-python",
   "name": "python",
   "nbconvert_exporter": "python",
   "pygments_lexer": "ipython3",
   "version": "3.12.9"
  }
 },
 "nbformat": 4,
 "nbformat_minor": 5
}
