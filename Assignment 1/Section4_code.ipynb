{
 "cells": [
  {
   "cell_type": "code",
   "execution_count": 1,
   "id": "3856aa98-861f-46d9-8ffd-affb11a22d03",
   "metadata": {},
   "outputs": [],
   "source": [
    "import numpy as np\n",
    "import pandas as pd\n",
    "import matplotlib.pyplot as plt\n",
    "import scipy.stats as sp\n",
    "import seaborn as sns\n",
    "import statsmodels.api as sm\n",
    "from sklearn.linear_model import LogisticRegression\n",
    "from sklearn.metrics import accuracy_score\n",
    "\n",
    "%matplotlib inline\n",
    "np.random.seed(2062)\n",
    "df = pd.read_csv(\"40403863_features.csv\")"
   ]
  },
  {
   "cell_type": "code",
   "execution_count": 8,
   "id": "76e28aeb-25b7-4b9c-9566-2ce21fb8df1f",
   "metadata": {},
   "outputs": [
    {
     "name": "stdout",
     "output_type": "stream",
     "text": [
      "R-Squared 0.9461528190109458\n",
      "R-Squared 0.9461184366438093\n",
      "R-Squared 0.9459597530482351\n",
      "R-Squared 0.9451638391822873\n",
      "R-Squared 0.9429773780422762\n",
      "R-Squared 0.9413743579013932\n",
      "R-Squared 0.9381243779841059\n",
      "R-Squared 0.9341713110472628\n",
      "                            OLS Regression Results                            \n",
      "==============================================================================\n",
      "Dep. Variable:           aspect_ratio   R-squared:                       0.931\n",
      "Model:                            OLS   Adj. R-squared:                  0.927\n",
      "Method:                 Least Squares   F-statistic:                     254.4\n",
      "Date:                Tue, 11 Mar 2025   Prob (F-statistic):           2.20e-73\n",
      "Time:                        17:38:55   Log-Likelihood:                 139.70\n",
      "No. Observations:                 140   AIC:                            -263.4\n",
      "Df Residuals:                     132   BIC:                            -239.9\n",
      "Df Model:                           7                                         \n",
      "Covariance Type:            nonrobust                                         \n",
      "==================================================================================\n",
      "                     coef    std err          t      P>|t|      [0.025      0.975]\n",
      "----------------------------------------------------------------------------------\n",
      "const              0.3917      0.051      7.713      0.000       0.291       0.492\n",
      "rows_with_1       -0.0264      0.004     -6.633      0.000      -0.034      -0.019\n",
      "cols_with_1        0.0368      0.005      7.355      0.000       0.027       0.047\n",
      "rows_with_3p       0.0622      0.006     10.323      0.000       0.050       0.074\n",
      "cols_with_3p      -0.0375      0.008     -4.467      0.000      -0.054      -0.021\n",
      "no_neigh_below     0.0477      0.005     10.148      0.000       0.038       0.057\n",
      "no_neigh_right    -0.0518      0.005    -10.881      0.000      -0.061      -0.042\n",
      "no_neigh_horiz     0.0340      0.004      8.525      0.000       0.026       0.042\n",
      "==============================================================================\n",
      "Omnibus:                        3.762   Durbin-Watson:                   1.203\n",
      "Prob(Omnibus):                  0.152   Jarque-Bera (JB):                3.742\n",
      "Skew:                           0.395   Prob(JB):                        0.154\n",
      "Kurtosis:                       2.870   Cond. No.                         123.\n",
      "==============================================================================\n",
      "\n",
      "Notes:\n",
      "[1] Standard Errors assume that the covariance matrix of the errors is correctly specified.\n",
      "\n",
      "Final R-Squared: 0.9309997162646575\n"
     ]
    }
   ],
   "source": [
    "#section 4.1\n",
    "features = list(df.columns[range(2,18)])\n",
    "features.pop(5)\n",
    "\n",
    "while True:\n",
    "    x = sm.add_constant(df[features])\n",
    "    model = sm.OLS(df[\"aspect_ratio\"], x).fit()\n",
    "    if model.pvalues.max() < 0.001:\n",
    "        break;\n",
    "    else:\n",
    "        features.remove(model.pvalues.idxmax())\n",
    "        print(\"R-Squared\", model.rsquared)\n",
    "print(model.summary())\n",
    "print(\"\\nFinal R-Squared:\", model.rsquared)"
   ]
  },
  {
   "cell_type": "code",
   "execution_count": 2,
   "id": "801e3e0f-a56c-42d0-9869-b47019c4580a",
   "metadata": {},
   "outputs": [
    {
     "ename": "KeyError",
     "evalue": "'label'",
     "output_type": "error",
     "traceback": [
      "\u001b[1;31m---------------------------------------------------------------------------\u001b[0m",
      "\u001b[1;31mKeyError\u001b[0m                                  Traceback (most recent call last)",
      "File \u001b[1;32mC:\\Anaconda3\\Lib\\site-packages\\pandas\\core\\indexes\\base.py:3805\u001b[0m, in \u001b[0;36mIndex.get_loc\u001b[1;34m(self, key)\u001b[0m\n\u001b[0;32m   3804\u001b[0m \u001b[38;5;28;01mtry\u001b[39;00m:\n\u001b[1;32m-> 3805\u001b[0m     \u001b[38;5;28;01mreturn\u001b[39;00m \u001b[38;5;28mself\u001b[39m\u001b[38;5;241m.\u001b[39m_engine\u001b[38;5;241m.\u001b[39mget_loc(casted_key)\n\u001b[0;32m   3806\u001b[0m \u001b[38;5;28;01mexcept\u001b[39;00m \u001b[38;5;167;01mKeyError\u001b[39;00m \u001b[38;5;28;01mas\u001b[39;00m err:\n",
      "File \u001b[1;32mindex.pyx:167\u001b[0m, in \u001b[0;36mpandas._libs.index.IndexEngine.get_loc\u001b[1;34m()\u001b[0m\n",
      "File \u001b[1;32mindex.pyx:196\u001b[0m, in \u001b[0;36mpandas._libs.index.IndexEngine.get_loc\u001b[1;34m()\u001b[0m\n",
      "File \u001b[1;32mpandas\\\\_libs\\\\hashtable_class_helper.pxi:7081\u001b[0m, in \u001b[0;36mpandas._libs.hashtable.PyObjectHashTable.get_item\u001b[1;34m()\u001b[0m\n",
      "File \u001b[1;32mpandas\\\\_libs\\\\hashtable_class_helper.pxi:7089\u001b[0m, in \u001b[0;36mpandas._libs.hashtable.PyObjectHashTable.get_item\u001b[1;34m()\u001b[0m\n",
      "\u001b[1;31mKeyError\u001b[0m: 'label'",
      "\nThe above exception was the direct cause of the following exception:\n",
      "\u001b[1;31mKeyError\u001b[0m                                  Traceback (most recent call last)",
      "Cell \u001b[1;32mIn[2], line 6\u001b[0m\n\u001b[0;32m      1\u001b[0m \u001b[38;5;66;03m# section 4.2\u001b[39;00m\n\u001b[0;32m      2\u001b[0m \n\u001b[0;32m      3\u001b[0m \u001b[38;5;66;03m# most significant is connected_areas\u001b[39;00m\n\u001b[0;32m      4\u001b[0m \n\u001b[0;32m      5\u001b[0m \u001b[38;5;66;03m# creating binary column? assignment unclear so I assumed we're still differentiating letters and non-letters\u001b[39;00m\n\u001b[1;32m----> 6\u001b[0m df[\u001b[38;5;124m\"\u001b[39m\u001b[38;5;124mletter\u001b[39m\u001b[38;5;124m\"\u001b[39m] \u001b[38;5;241m=\u001b[39m np\u001b[38;5;241m.\u001b[39mwhere(df[\u001b[38;5;124m\"\u001b[39m\u001b[38;5;124mlabel\u001b[39m\u001b[38;5;124m\"\u001b[39m]\u001b[38;5;241m.\u001b[39misin([\u001b[38;5;124m\"\u001b[39m\u001b[38;5;124ma\u001b[39m\u001b[38;5;124m\"\u001b[39m,\u001b[38;5;124m\"\u001b[39m\u001b[38;5;124mb\u001b[39m\u001b[38;5;124m\"\u001b[39m,\u001b[38;5;124m\"\u001b[39m\u001b[38;5;124mc\u001b[39m\u001b[38;5;124m\"\u001b[39m,\u001b[38;5;124m\"\u001b[39m\u001b[38;5;124md\u001b[39m\u001b[38;5;124m\"\u001b[39m,\u001b[38;5;124m\"\u001b[39m\u001b[38;5;124me\u001b[39m\u001b[38;5;124m\"\u001b[39m,\u001b[38;5;124m\"\u001b[39m\u001b[38;5;124mf\u001b[39m\u001b[38;5;124m\"\u001b[39m,\u001b[38;5;124m\"\u001b[39m\u001b[38;5;124mg\u001b[39m\u001b[38;5;124m\"\u001b[39m,\u001b[38;5;124m\"\u001b[39m\u001b[38;5;124mh\u001b[39m\u001b[38;5;124m\"\u001b[39m,\u001b[38;5;124m\"\u001b[39m\u001b[38;5;124mi\u001b[39m\u001b[38;5;124m\"\u001b[39m,\u001b[38;5;124m\"\u001b[39m\u001b[38;5;124mj\u001b[39m\u001b[38;5;124m\"\u001b[39m]), \u001b[38;5;241m1\u001b[39m, \u001b[38;5;241m0\u001b[39m)\n\u001b[0;32m      8\u001b[0m np\u001b[38;5;241m.\u001b[39mrandom\u001b[38;5;241m.\u001b[39mseed(\u001b[38;5;241m42\u001b[39m)\n\u001b[0;32m      9\u001b[0m sampleSet \u001b[38;5;241m=\u001b[39m df\u001b[38;5;241m.\u001b[39msample(frac\u001b[38;5;241m=\u001b[39m\u001b[38;5;241m1\u001b[39m, random_state \u001b[38;5;241m=\u001b[39m \u001b[38;5;241m34\u001b[39m)\u001b[38;5;241m.\u001b[39mreset_index(drop\u001b[38;5;241m=\u001b[39m\u001b[38;5;28;01mTrue\u001b[39;00m)\n",
      "File \u001b[1;32mC:\\Anaconda3\\Lib\\site-packages\\pandas\\core\\frame.py:4102\u001b[0m, in \u001b[0;36mDataFrame.__getitem__\u001b[1;34m(self, key)\u001b[0m\n\u001b[0;32m   4100\u001b[0m \u001b[38;5;28;01mif\u001b[39;00m \u001b[38;5;28mself\u001b[39m\u001b[38;5;241m.\u001b[39mcolumns\u001b[38;5;241m.\u001b[39mnlevels \u001b[38;5;241m>\u001b[39m \u001b[38;5;241m1\u001b[39m:\n\u001b[0;32m   4101\u001b[0m     \u001b[38;5;28;01mreturn\u001b[39;00m \u001b[38;5;28mself\u001b[39m\u001b[38;5;241m.\u001b[39m_getitem_multilevel(key)\n\u001b[1;32m-> 4102\u001b[0m indexer \u001b[38;5;241m=\u001b[39m \u001b[38;5;28mself\u001b[39m\u001b[38;5;241m.\u001b[39mcolumns\u001b[38;5;241m.\u001b[39mget_loc(key)\n\u001b[0;32m   4103\u001b[0m \u001b[38;5;28;01mif\u001b[39;00m is_integer(indexer):\n\u001b[0;32m   4104\u001b[0m     indexer \u001b[38;5;241m=\u001b[39m [indexer]\n",
      "File \u001b[1;32mC:\\Anaconda3\\Lib\\site-packages\\pandas\\core\\indexes\\base.py:3812\u001b[0m, in \u001b[0;36mIndex.get_loc\u001b[1;34m(self, key)\u001b[0m\n\u001b[0;32m   3807\u001b[0m     \u001b[38;5;28;01mif\u001b[39;00m \u001b[38;5;28misinstance\u001b[39m(casted_key, \u001b[38;5;28mslice\u001b[39m) \u001b[38;5;129;01mor\u001b[39;00m (\n\u001b[0;32m   3808\u001b[0m         \u001b[38;5;28misinstance\u001b[39m(casted_key, abc\u001b[38;5;241m.\u001b[39mIterable)\n\u001b[0;32m   3809\u001b[0m         \u001b[38;5;129;01mand\u001b[39;00m \u001b[38;5;28many\u001b[39m(\u001b[38;5;28misinstance\u001b[39m(x, \u001b[38;5;28mslice\u001b[39m) \u001b[38;5;28;01mfor\u001b[39;00m x \u001b[38;5;129;01min\u001b[39;00m casted_key)\n\u001b[0;32m   3810\u001b[0m     ):\n\u001b[0;32m   3811\u001b[0m         \u001b[38;5;28;01mraise\u001b[39;00m InvalidIndexError(key)\n\u001b[1;32m-> 3812\u001b[0m     \u001b[38;5;28;01mraise\u001b[39;00m \u001b[38;5;167;01mKeyError\u001b[39;00m(key) \u001b[38;5;28;01mfrom\u001b[39;00m \u001b[38;5;21;01merr\u001b[39;00m\n\u001b[0;32m   3813\u001b[0m \u001b[38;5;28;01mexcept\u001b[39;00m \u001b[38;5;167;01mTypeError\u001b[39;00m:\n\u001b[0;32m   3814\u001b[0m     \u001b[38;5;66;03m# If we have a listlike key, _check_indexing_error will raise\u001b[39;00m\n\u001b[0;32m   3815\u001b[0m     \u001b[38;5;66;03m#  InvalidIndexError. Otherwise we fall through and re-raise\u001b[39;00m\n\u001b[0;32m   3816\u001b[0m     \u001b[38;5;66;03m#  the TypeError.\u001b[39;00m\n\u001b[0;32m   3817\u001b[0m     \u001b[38;5;28mself\u001b[39m\u001b[38;5;241m.\u001b[39m_check_indexing_error(key)\n",
      "\u001b[1;31mKeyError\u001b[0m: 'label'"
     ]
    }
   ],
   "source": [
    "# section 4.2\n",
    "\n",
    "# most significant is connected_areas\n",
    "\n",
    "# creating binary column? assignment unclear so I assumed we're still differentiating letters and non-letters\n",
    "df[\"letter\"] = np.where(df[\"label\"].isin([\"a\",\"b\",\"c\",\"d\",\"e\",\"f\",\"g\",\"h\",\"i\",\"j\"]), 1, 0)\n",
    "\n",
    "np.random.seed(42)\n",
    "sampleSet = df.sample(frac=1, random_state = 34).reset_index(drop=True)\n",
    "train_data = sampleSet[:112] # top 80% like in topic 14 slides\n",
    "test_data = sampleSet[112:]\n",
    "\n",
    "sns.histplot(data=train_data, x=\"connected_areas\", alpha=0.5)\n",
    "plt.show()\n",
    "plt.clf()\n",
    "\n",
    "x_train = train_data[[\"connected_areas\"]]\n",
    "y_train = train_data[\"letter\"]\n",
    "model = LogisticRegression()\n",
    "model.fit(x_train, y_train)\n",
    "print(model.coef_, model.intercept_)\n",
    "\n",
    "x_vals = np.linspace(train_data[\"connected_areas\"].min(), train_data[\"connected_areas\"].max(), 1000)\n",
    "fitted_curve = model.predict_proba(x_vals.reshape(-1, 1))[:, 1]\n",
    "plt.scatter(train_data[\"connected_areas\"], train_data[\"letter\"], c=train_data[\"letter\"], cmap=\"viridis\", label=\"Training Data\")\n",
    "plt.plot(x_vals, fitted_curve, label=\"fitted curve\")\n",
    "plt.show()\n",
    "\n",
    "\n",
    "train_preds = (model.predict_proba(x_train)[:, 1] > 0.5).astype(int)\n",
    "train_accuracy = accuracy_score(y_train, train_preds)\n",
    "print(\"Training Accuracy:\", train_accuracy)\n",
    "\n",
    "x_test = test_data[[\"connected_areas\"]]\n",
    "y_test = test_data[\"letter\"]\n",
    "test_preds = (model.predict_proba(x_test)[:, 1] > 0.5).astype(int)\n",
    "test_accuracy = accuracy_score(y_test, test_preds)\n",
    "print(\"Testing Accuracy:\", test_accuracy)"
   ]
  },
  {
   "cell_type": "code",
   "execution_count": 26,
   "id": "e422610a-4322-4bb3-8c65-8e75ed40d4a0",
   "metadata": {},
   "outputs": [
    {
     "name": "stdout",
     "output_type": "stream",
     "text": [
      "Letters:  [0.627, 0.443, 0.184]\n",
      "Faces:  [0.373, 0.557, 0.776]\n",
      "Exclamation Marks:  [0.0, 0.0, 0.041]\n"
     ]
    }
   ],
   "source": [
    "# section 4.3\n",
    "splits = [[0,0,0],[0,0,0],[0,0,0]]\n",
    "df[\"letter\"] = np.where(df[\"label\"].isin([\"a\",\"b\",\"c\",\"d\",\"e\",\"f\",\"g\",\"h\",\"i\",\"j\"]), 1, 0)\n",
    "df[\"face\"] = np.where(df[\"label\"].isin([\"smiley\", \"sad\"]), 1, 0)\n",
    "df[\"xclaim\"] = np.where(df[\"label\"] == \"xclaim\", 1, 0)\n",
    "\n",
    "types = [df[\"letter\"], df[\"face\"], df[\"xclaim\"]]\n",
    "for x in range(0,140):\n",
    "    for y in range(0,3):\n",
    "        if df[\"nr_pix\"][x] > df[\"nr_pix\"].median() and types[y][x] == 1:\n",
    "            splits[y][0] += 1\n",
    "        if df[\"aspect_ratio\"][x] > df[\"aspect_ratio\"].median() and types[y][x] == 1:\n",
    "            splits[y][1] += 1\n",
    "        if df[\"neigh_1\"][x] > df[\"neigh_1\"].median() and types[y][x] == 1:\n",
    "            splits[y][2] += 1\n",
    "for x in range(0, 3):\n",
    "    total = splits[0][x] + splits[1][x] + splits[2][x]\n",
    "    for y in range(0, 3):\n",
    "        splits[y][x] = round((splits[y][x]/total), 3)\n",
    "print(\"Letters: \", splits[0])\n",
    "print(\"Faces: \", splits[1])\n",
    "print(\"Exclamation Marks: \", splits[2])"
   ]
  },
  {
   "cell_type": "code",
   "execution_count": null,
   "id": "39883883-eea2-496f-829f-a16e061f3c5e",
   "metadata": {},
   "outputs": [],
   "source": []
  }
 ],
 "metadata": {
  "kernelspec": {
   "display_name": "Python 3 (ipykernel)",
   "language": "python",
   "name": "python3"
  },
  "language_info": {
   "codemirror_mode": {
    "name": "ipython",
    "version": 3
   },
   "file_extension": ".py",
   "mimetype": "text/x-python",
   "name": "python",
   "nbconvert_exporter": "python",
   "pygments_lexer": "ipython3",
   "version": "3.12.9"
  }
 },
 "nbformat": 4,
 "nbformat_minor": 5
}
