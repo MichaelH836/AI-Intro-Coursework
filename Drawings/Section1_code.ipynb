{
 "cells": [
  {
   "cell_type": "code",
   "execution_count": 7,
   "id": "ddf36a2b-e725-4bd2-9db5-c671ebd8aa5f",
   "metadata": {},
   "outputs": [
    {
     "name": "stdout",
     "output_type": "stream",
     "text": [
      "2.2.3\n"
     ]
    }
   ],
   "source": [
    "import pandas as pd\n",
    "import numpy as np\n",
    "import os\n",
    "print(pd.__version__)"
   ]
  },
  {
   "cell_type": "code",
   "execution_count": 8,
   "id": "04836dc9-f180-4803-8a8f-bb0fe591c9a4",
   "metadata": {},
   "outputs": [
    {
     "name": "stdout",
     "output_type": "stream",
     "text": [
      "['40403863_a_01.pgm', '40403863_a_02.pgm', '40403863_a_03.pgm', '40403863_a_04.pgm', '40403863_a_05.pgm', '40403863_a_06.pgm', '40403863_a_07.pgm', '40403863_a_08.pgm', '40403863_b_01.pgm', '40403863_b_02.pgm', '40403863_b_03.pgm', '40403863_b_04.pgm', '40403863_b_05.pgm', '40403863_b_06.pgm', '40403863_b_07.pgm', '40403863_b_08.pgm', '40403863_c_01.pgm', '40403863_c_02.pgm', '40403863_c_03.pgm', '40403863_c_04.pgm', '40403863_c_05.pgm', '40403863_c_06.pgm', '40403863_c_07.pgm', '40403863_c_08.pgm', '40403863_d_01.pgm', '40403863_d_02.pgm', '40403863_d_03.pgm', '40403863_d_04.pgm', '40403863_d_05.pgm', '40403863_d_06.pgm', '40403863_d_07.pgm', '40403863_d_08.pgm', '40403863_e_01.pgm', '40403863_e_02.pgm', '40403863_e_03.pgm', '40403863_e_04.pgm', '40403863_e_05.pgm', '40403863_e_06.pgm', '40403863_e_07.pgm', '40403863_e_08.pgm', '40403863_f_01.pgm', '40403863_f_02.pgm', '40403863_f_03.pgm', '40403863_f_04.pgm', '40403863_f_05.pgm', '40403863_f_06.pgm', '40403863_f_07.pgm', '40403863_f_08.pgm', '40403863_g_01.pgm', '40403863_g_02.pgm', '40403863_g_03.pgm', '40403863_g_04.pgm', '40403863_g_05.pgm', '40403863_g_06.pgm', '40403863_g_07.pgm', '40403863_g_08.pgm', '40403863_h_01.pgm', '40403863_h_02.pgm', '40403863_h_03.pgm', '40403863_h_04.pgm', '40403863_h_05.pgm', '40403863_h_06.pgm', '40403863_h_07.pgm', '40403863_h_08.pgm', '40403863_i_01.pgm', '40403863_i_02.pgm', '40403863_i_03.pgm', '40403863_i_04.pgm', '40403863_i_05.pgm', '40403863_i_06.pgm', '40403863_i_07.pgm', '40403863_i_08.pgm', '40403863_j_01.pgm', '40403863_j_02.pgm', '40403863_j_03.pgm', '40403863_j_04.pgm', '40403863_j_05.pgm', '40403863_j_06.pgm', '40403863_j_07.pgm', '40403863_j_08.pgm', '40403863_sad_01.pgm', '40403863_sad_02.pgm', '40403863_sad_03.pgm', '40403863_sad_04.pgm', '40403863_sad_05.pgm', '40403863_sad_06.pgm', '40403863_sad_07.pgm', '40403863_sad_08.pgm', '40403863_sad_09.pgm', '40403863_sad_10.pgm', '40403863_sad_11.pgm', '40403863_sad_12.pgm', '40403863_sad_13.pgm', '40403863_sad_14.pgm', '40403863_sad_15.pgm', '40403863_sad_16.pgm', '40403863_sad_17.pgm', '40403863_sad_18.pgm', '40403863_sad_19.pgm', '40403863_sad_20.pgm', '40403863_smiley_01.pgm', '40403863_smiley_02.pgm', '40403863_smiley_03.pgm', '40403863_smiley_04.pgm', '40403863_smiley_05.pgm', '40403863_smiley_06.pgm', '40403863_smiley_07.pgm', '40403863_smiley_08.pgm', '40403863_smiley_09.pgm', '40403863_smiley_10.pgm', '40403863_smiley_11.pgm', '40403863_smiley_12.pgm', '40403863_smiley_13.pgm', '40403863_smiley_14.pgm', '40403863_smiley_15.pgm', '40403863_smiley_16.pgm', '40403863_smiley_17.pgm', '40403863_smiley_18.pgm', '40403863_smiley_19.pgm', '40403863_smiley_20.pgm', '40403863_xclaim_01.pgm', '40403863_xclaim_02.pgm', '40403863_xclaim_03.pgm', '40403863_xclaim_04.pgm', '40403863_xclaim_05.pgm', '40403863_xclaim_06.pgm', '40403863_xclaim_07.pgm', '40403863_xclaim_08.pgm', '40403863_xclaim_09.pgm', '40403863_xclaim_10.pgm', '40403863_xclaim_11.pgm', '40403863_xclaim_12.pgm', '40403863_xclaim_13.pgm', '40403863_xclaim_14.pgm', '40403863_xclaim_15.pgm', '40403863_xclaim_16.pgm', '40403863_xclaim_17.pgm', '40403863_xclaim_18.pgm', '40403863_xclaim_19.pgm', '40403863_xclaim_20.pgm']\n"
     ]
    }
   ],
   "source": [
    "a = np.zeros((18, 18), dtype=np.int32)\n",
    "files = os.listdir('PGM Files')\n",
    "print(files)"
   ]
  },
  {
   "cell_type": "code",
   "execution_count": 10,
   "id": "e50b4d60-da38-4a9f-acc0-ff4545f6d80d",
   "metadata": {},
   "outputs": [],
   "source": [
    "for file in files:\n",
    "    if not (\"ipynb\" in file or \"csv\" in file):\n",
    "        try:\n",
    "            df = pd.read_csv(\"PGM Files/\" + file)\n",
    "            a = np.zeros((18, 18), dtype=np.int32)\n",
    "            for x in range(0, 17):\n",
    "                for y in range(0, 17):\n",
    "                    if int(df.iloc[2 + x * 18 + y][\"P2\"]) < 128:\n",
    "                        a[x][y] = 1\n",
    "            output_filename = \"CSV Files/\" + os.path.splitext(file)[0] + \".csv\"\n",
    "            np.savetxt(output_filename, a, delimiter=\",\", fmt=\"%d\")\n",
    "        except Exception as e:\n",
    "            print(f\"{file}: {e}\")"
   ]
  },
  {
   "cell_type": "code",
   "execution_count": null,
   "id": "538a0f0a-98a6-4a1b-b1da-cd98bd1dba3f",
   "metadata": {},
   "outputs": [],
   "source": []
  }
 ],
 "metadata": {
  "kernelspec": {
   "display_name": "Python 3 (ipykernel)",
   "language": "python",
   "name": "python3"
  },
  "language_info": {
   "codemirror_mode": {
    "name": "ipython",
    "version": 3
   },
   "file_extension": ".py",
   "mimetype": "text/x-python",
   "name": "python",
   "nbconvert_exporter": "python",
   "pygments_lexer": "ipython3",
   "version": "3.12.9"
  }
 },
 "nbformat": 4,
 "nbformat_minor": 5
}
