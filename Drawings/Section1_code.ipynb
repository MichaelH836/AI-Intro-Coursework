{
 "cells": [
  {
   "cell_type": "code",
   "execution_count": 5,
   "id": "ddf36a2b-e725-4bd2-9db5-c671ebd8aa5f",
   "metadata": {},
   "outputs": [
    {
     "name": "stdout",
     "output_type": "stream",
     "text": [
      "2.2.3\n"
     ]
    }
   ],
   "source": [
    "import pandas as pd\n",
    "import numpy as np\n",
    "import os\n",
    "print(pd.__version__)"
   ]
  },
  {
   "cell_type": "code",
   "execution_count": 6,
   "id": "04836dc9-f180-4803-8a8f-bb0fe591c9a4",
   "metadata": {},
   "outputs": [],
   "source": [
    "a = np.zeros((18, 18), dtype=np.int32)\n",
    "files = os.listdir('PGM Files')"
   ]
  },
  {
   "cell_type": "code",
   "execution_count": 7,
   "id": "e50b4d60-da38-4a9f-acc0-ff4545f6d80d",
   "metadata": {},
   "outputs": [],
   "source": [
    "for file in files:\n",
    "    if not (\"ipynb\" in file or \"csv\" in file):\n",
    "        try:\n",
    "            df = pd.read_csv(\"PGM Files/\" + file)\n",
    "            a = np.zeros((18, 18), dtype=np.int32)\n",
    "            for x in range(0, 17):\n",
    "                for y in range(0, 17):\n",
    "                    if int(df.iloc[2 + x * 18 + y][\"P2\"]) < 128:\n",
    "                        a[x][y] = 1\n",
    "            output_filename = \"CSV Files/\" + os.path.splitext(file)[0] + \".csv\"\n",
    "            np.savetxt(output_filename, a, delimiter=\",\", fmt=\"%d\")\n",
    "        except Exception as e:\n",
    "            print(f\"{file}: {e}\")"
   ]
  },
  {
   "cell_type": "code",
   "execution_count": null,
   "id": "538a0f0a-98a6-4a1b-b1da-cd98bd1dba3f",
   "metadata": {},
   "outputs": [],
   "source": []
  }
 ],
 "metadata": {
  "kernelspec": {
   "display_name": "Python 3 (ipykernel)",
   "language": "python",
   "name": "python3"
  },
  "language_info": {
   "codemirror_mode": {
    "name": "ipython",
    "version": 3
   },
   "file_extension": ".py",
   "mimetype": "text/x-python",
   "name": "python",
   "nbconvert_exporter": "python",
   "pygments_lexer": "ipython3",
   "version": "3.12.9"
  }
 },
 "nbformat": 4,
 "nbformat_minor": 5
}
