{
 "cells": [
  {
   "cell_type": "code",
   "execution_count": 97,
   "metadata": {},
   "outputs": [
    {
     "name": "stdout",
     "output_type": "stream",
     "text": [
      "2.2.3\n"
     ]
    }
   ],
   "source": [
    "import pandas as pd\n",
    "import numpy as np\n",
    "import os\n",
    "print(pd.__version__)"
   ]
  },
  {
   "cell_type": "code",
   "execution_count": 98,
   "metadata": {},
   "outputs": [
    {
     "name": "stdout",
     "output_type": "stream",
     "text": [
      "['40403863_a_01.csv']\n"
     ]
    }
   ],
   "source": [
    "files = os.listdir('Test Folder')\n",
    "print(files)"
   ]
  },
  {
   "cell_type": "code",
   "execution_count": 99,
   "metadata": {},
   "outputs": [],
   "source": [
    "a[0][0] = \"label\"\n",
    "a[0][1] = \"index\"\n",
    "a[0][2] = \"nr_pix\"\n",
    "a[0][3] = \"rows_with_win\"\n",
    "a[0][4] = \"cols_with_1\"\n",
    "a[0][5] = \"rows_with_3p\"\n",
    "a[0][6] = \"cols_with_3p\"\n",
    "a[0][7] = \"aspect_ratio\"\n",
    "a[0][8] = \"neigh_1\"\n",
    "a[0][9] = \"no_neigh_above\"\n",
    "a[0][10] = \"no_neigh_below\"\n",
    "a[0][11] = \"no_neigh_left\"\n",
    "a[0][12] = \"no_neigh_right\"\n",
    "a[0][13] = \"no_neigh_horiz\"\n",
    "a[0][14] = \"no_neigh_vert\"\n",
    "a[0][15] = \"connected_areas\"\n",
    "a[0][16] = \"eyes\"\n",
    "a[0][17] = \"custom\""
   ]
  },
  {
   "cell_type": "code",
   "execution_count": 132,
   "metadata": {},
   "outputs": [],
   "source": [
    "for file in files:\n",
    "    df = pd.read_csv(\"Test Folder/\" + file, header=None)\n",
    "    breakname = file.split(\"_\")\n",
    "    label = breakname[1]\n",
    "    index = breakname[2]\n",
    "    nr_pix, rows_with_1, cols_with_1, rows_with_3p, cols_with_3p, neigh_1, no_neigh_above, no_neigh_below, no_neigh_left, no_neigh_right, no_neigh_horiz, no_neigh_vert, connected_areas, eyes, custom = [0] * 15\n",
    "    highest_index = 17\n",
    "    lowest_index = 0\n",
    "    leftmost_index = 17\n",
    "    rightmost_index = 0\n",
    "    for y in range(0,17):\n",
    "        p_in_row, p_in_column = [0] * 2\n",
    "        for x in range(0,17):\n",
    "            no_neigh = 0\n",
    "            if df.iat[y,x] == 1:\n",
    "                for yoff in range (-1, 1):\n",
    "                    for xoff in range(-1, 1):\n",
    "                        if df.iat[y+yoff, x+xoff] == 1:\n",
    "                            no_neigh += 1\n",
    "                if no_neigh == 1:\n",
    "                    neigh_1 += 1\n",
    "                nr_pix+= 1\n",
    "                p_in_row+= 1\n",
    "                p_in_column+= 1\n",
    "                if y < highest_index:\n",
    "                    highest_index = y\n",
    "                if y > lowest_index:\n",
    "                    lowest_index = y\n",
    "                if x < leftmost_index:\n",
    "                    leftmost_index = x\n",
    "                if x > rightmost_index:\n",
    "                    rightmost_index = x\n",
    "            if p_in_row == 1:\n",
    "                rows_with_1+= 1\n",
    "            if p_in_column == 1:\n",
    "                cols_with_1+= 1\n",
    "            if p_in_row >= 3:\n",
    "                rows_with_3p+= 1\n",
    "            if p_in_column >= 3:\n",
    "                cols_with_3p+= 1\n",
    "            if y > 0:\n",
    "                if not (df.iat[y-1,x-1] == 1 or df.iat[y-1,x] == 1 or df.iat[y-1,x+1] == 1):\n",
    "                    no_neigh_above+= 1\n",
    "            if y < 17:\n",
    "                if not (df.iat[y+1,x-1] == 1 or df.iat[y+1,x] == 1 or df.iat[y+1,x+1] == 1):\n",
    "                    no_neigh_below+= 1\n",
    "            if x > 0:\n",
    "                if not (df.iat[y-1,x-1] == 1 or df.iat[y,x-1] == 1 or df.iat[y+1,x-1] == 1):\n",
    "                    no_neigh_left+= 1\n",
    "            if x < 17:\n",
    "                if not (df.iat[y-1,x+1] == 1 or df.iat[y,x+1] == 1 or df.iat[y+1,x+1] == 1):\n",
    "                    no_neigh_right+= 1\n",
    "            if x > 0 and x < 17:\n",
    "                if not (df.iat[y,x+1] or df.iat[y,x-1]):\n",
    "                    no_neigh_horiz+= 1\n",
    "            if y > 0 and y < 17:\n",
    "                if not (df.iat[y+1,x] or df.iat[y-1,x]):\n",
    "                    no_neigh_horiz+= 1\n",
    "    aspect_ratio = (rightmost_index - leftmost_index)/(lowest_index - highest_index)"
   ]
  },
  {
   "cell_type": "code",
   "execution_count": null,
   "metadata": {},
   "outputs": [],
   "source": []
  }
 ],
 "metadata": {
  "kernelspec": {
   "display_name": "Python 3 (ipykernel)",
   "language": "python",
   "name": "python3"
  },
  "language_info": {
   "codemirror_mode": {
    "name": "ipython",
    "version": 3
   },
   "file_extension": ".py",
   "mimetype": "text/x-python",
   "name": "python",
   "nbconvert_exporter": "python",
   "pygments_lexer": "ipython3",
   "version": "3.12.9"
  }
 },
 "nbformat": 4,
 "nbformat_minor": 4
}
